{
  "nbformat": 4,
  "nbformat_minor": 0,
  "metadata": {
    "colab": {
      "name": "meme vs notes cnn with 100 acc with graph.ipynb",
      "provenance": [],
      "collapsed_sections": []
    },
    "kernelspec": {
      "name": "python3",
      "display_name": "Python 3"
    }
  },
  "cells": [
    {
      "cell_type": "code",
      "metadata": {
        "id": "XebVaWoCxs8K",
        "colab_type": "code",
        "colab": {
          "base_uri": "https://localhost:8080/",
          "height": 122
        },
        "outputId": "c6b6b0b0-2fa4-487e-90c0-46d01fb3014f"
      },
      "source": [
        "from google.colab import drive\n",
        "drive.mount('/content/drive')"
      ],
      "execution_count": 1,
      "outputs": [
        {
          "output_type": "stream",
          "text": [
            "Go to this URL in a browser: https://accounts.google.com/o/oauth2/auth?client_id=947318989803-6bn6qk8qdgf4n4g3pfee6491hc0brc4i.apps.googleusercontent.com&redirect_uri=urn%3aietf%3awg%3aoauth%3a2.0%3aoob&scope=email%20https%3a%2f%2fwww.googleapis.com%2fauth%2fdocs.test%20https%3a%2f%2fwww.googleapis.com%2fauth%2fdrive%20https%3a%2f%2fwww.googleapis.com%2fauth%2fdrive.photos.readonly%20https%3a%2f%2fwww.googleapis.com%2fauth%2fpeopleapi.readonly&response_type=code\n",
            "\n",
            "Enter your authorization code:\n",
            "··········\n",
            "Mounted at /content/drive\n"
          ],
          "name": "stdout"
        }
      ]
    },
    {
      "cell_type": "code",
      "metadata": {
        "id": "ne4v160Vx0Ze",
        "colab_type": "code",
        "colab": {}
      },
      "source": [
        "import torch\n",
        "import torch.nn as nn\n",
        "import torch.nn.functional as F\n",
        "import torchvision\n",
        "import torchvision.transforms as transforms\n",
        "import matplotlib.pyplot as plt\n",
        "import numpy as np\n",
        "\n",
        "import os\n",
        "import random\n",
        "import cv2"
      ],
      "execution_count": 2,
      "outputs": []
    },
    {
      "cell_type": "code",
      "metadata": {
        "id": "a7lOwWKYzPB-",
        "colab_type": "code",
        "colab": {}
      },
      "source": [
        "\n",
        "DATA_SET=\"/content/drive/My Drive/GDFiles/Stage_2\"\n",
        "CATEGORIES=[\"Memes\",\"Notes\"]"
      ],
      "execution_count": 3,
      "outputs": []
    },
    {
      "cell_type": "code",
      "metadata": {
        "id": "-wmREE0nzUcF",
        "colab_type": "code",
        "colab": {}
      },
      "source": [
        "data=[]\n",
        "\n",
        "IMG_SIZE=256\n",
        "\n",
        "for category in CATEGORIES:\n",
        "  folder=os.path.join(DATA_SET,category)\n",
        "  label=CATEGORIES.index(category)\n",
        "  for img in os.listdir(folder):\n",
        "      img_path=os.path.join(folder,img)\n",
        "      img_array=cv2.imread(img_path)\n",
        "      img_array=cv2.resize(img_array,(IMG_SIZE,IMG_SIZE))\n",
        "      data.append([img_array,label])"
      ],
      "execution_count": 4,
      "outputs": []
    },
    {
      "cell_type": "code",
      "metadata": {
        "id": "jkyBxbgo2Jhg",
        "colab_type": "code",
        "colab": {}
      },
      "source": [
        "random.shuffle(data)\n",
        "\n",
        "X=[]\n",
        "Y=[]\n",
        "\n",
        "for features,labels in data:\n",
        "    X.append(features)\n",
        "    Y.append(labels)\n",
        "X=np.array(X)\n",
        "Y=np.array(Y)\n",
        "XT=torch.from_numpy(X)  \n",
        "YT=torch.from_numpy(Y) \n",
        "\n"
      ],
      "execution_count": 5,
      "outputs": []
    },
    {
      "cell_type": "code",
      "metadata": {
        "id": "UzUQR9clzZ-_",
        "colab_type": "code",
        "colab": {
          "base_uri": "https://localhost:8080/",
          "height": 34
        },
        "outputId": "fc820179-12fe-4b3f-f8aa-1a1308add07f"
      },
      "source": [
        " from torch.utils.data import random_split\n",
        "\n",
        " nontest_ds, test_ds = random_split(data, [1580, 20])\n",
        " train_ds,val_ds= random_split(nontest_ds, [1500,80])\n",
        " len(train_ds),len(val_ds),len(test_ds)"
      ],
      "execution_count": 6,
      "outputs": [
        {
          "output_type": "execute_result",
          "data": {
            "text/plain": [
              "(1500, 80, 20)"
            ]
          },
          "metadata": {
            "tags": []
          },
          "execution_count": 6
        }
      ]
    },
    {
      "cell_type": "code",
      "metadata": {
        "id": "PgTbmIK9GiFd",
        "colab_type": "code",
        "colab": {}
      },
      "source": [
        "from torch.utils.data import DataLoader\n",
        "\n",
        "batch_size = 5\n",
        "\n",
        "train_loader = DataLoader(train_ds, batch_size, shuffle=True)\n",
        "val_loader = DataLoader(val_ds, batch_size)\n",
        "test_loader = DataLoader(test_ds, batch_size)"
      ],
      "execution_count": 18,
      "outputs": []
    },
    {
      "cell_type": "code",
      "metadata": {
        "id": "-bHUQOH52lqS",
        "colab_type": "code",
        "colab": {}
      },
      "source": [
        "class ConvNet(nn.Module):\n",
        "  def __init__(self):\n",
        "    super(ConvNet,self).__init__()\n",
        "    self.conv1 = nn.Conv2d(3,96,11,stride=4)\n",
        "    self.conv2 = nn.Conv2d(96,132,5,stride=4)\n",
        "    self.conv3 = nn.Conv2d(132,158,(3,3))\n",
        "    self.fc1 = nn.Linear(158*2*2,252)\n",
        "    self.fc2 = nn.Linear(252,2)\n",
        "\n",
        "  def forward(self,x):\n",
        "    x = F.relu(self.conv1(x.float()))\n",
        "    x = F.relu(self.conv2(x.float()))\n",
        "    x = F.max_pool2d(x,(2,2))\n",
        "    x = F.relu(self.conv3(x.float()))\n",
        "    x = F.max_pool2d(x,(2,2))\n",
        "    x = x.view(x.size(0),-1)\n",
        "    x = F.relu(self.fc1(x.float()))\n",
        "    x = self.fc2(x)\n",
        "    return x"
      ],
      "execution_count": 12,
      "outputs": []
    },
    {
      "cell_type": "markdown",
      "metadata": {
        "id": "43M_KGB24ox2",
        "colab_type": "text"
      },
      "source": [
        "# training set with graph between losses vs epoch\n",
        "(for training set batch size:50)"
      ]
    },
    {
      "cell_type": "code",
      "metadata": {
        "id": "JHav9Q9I4eY1",
        "colab_type": "code",
        "colab": {
          "base_uri": "https://localhost:8080/",
          "height": 398
        },
        "outputId": "2616cced-beda-4124-e6f5-1daa1c9e59e6"
      },
      "source": [
        "model = ConvNet()\n",
        "\n",
        "criterion = nn.CrossEntropyLoss()\n",
        "optimizer = torch.optim.Adam(model.parameters(), lr=0.001)\n",
        "num_epochs=5\n",
        "losses=[]\n",
        "for epoch in range(num_epochs):\n",
        "    for images, labels in train_loader:\n",
        "      images=images.permute(0,3,1,2)\n",
        "\n",
        "        # Forward pass\n",
        "      outputs = model(images)\n",
        "      loss = criterion(outputs, labels)\n",
        "      losses.append(loss)\n",
        "        # Backward and optimize\n",
        "      optimizer.zero_grad()\n",
        "      loss.backward()\n",
        "      optimizer.step()\n",
        "\n",
        "      \n",
        "    print (f'Epoch [{epoch+1}/{num_epochs}],  Loss: {loss.item():.4f}')\n",
        "plt.plot(losses,'-x')\n",
        "plt.xlabel('epoch')\n",
        "plt.ylabel('loss')\n",
        "plt.show()\n",
        "print('Finished Training')\n",
        "\n",
        "\n",
        "with torch.no_grad():\n",
        "    n_correct = 0\n",
        "    n_samples = 0\n",
        "    \n",
        "    for images, labels in test_loader:\n",
        "      images=images.permute(0,3,1,2)  \n",
        "      outputs = model(images)\n",
        "      # max returns (value ,index)\n",
        "      _, predicted = torch.max(outputs, 1)\n",
        "      n_samples += labels.size(0)\n",
        "      n_correct += (predicted == labels).sum().item()\n",
        "      \n",
        "      \n",
        "\n",
        "    acc = 100.0 * n_correct / n_samples\n",
        "    print(f'Accuracy of the network: {acc} %')\n",
        "\n",
        "    "
      ],
      "execution_count": 13,
      "outputs": [
        {
          "output_type": "stream",
          "text": [
            "Epoch [1/5],  Loss: 4.8537\n",
            "Epoch [2/5],  Loss: 0.2225\n",
            "Epoch [3/5],  Loss: 0.1275\n",
            "Epoch [4/5],  Loss: 0.0587\n",
            "Epoch [5/5],  Loss: 0.1394\n"
          ],
          "name": "stdout"
        },
        {
          "output_type": "display_data",
          "data": {
            "image/png": "[encoded data removed]",
            "text/plain": [
              "<Figure size 432x288 with 1 Axes>"
            ]
          },
          "metadata": {
            "tags": [],
            "needs_background": "light"
          }
        },
        {
          "output_type": "stream",
          "text": [
            "Finished Training\n",
            "Accuracy of the network: 95.0 %\n"
          ],
          "name": "stdout"
        }
      ]
    },
    {
      "cell_type": "markdown",
      "metadata": {
        "id": "QTKlqBXj4iUF",
        "colab_type": "text"
      },
      "source": [
        "# validation set with graph of loss vs epoch\n",
        "(for validation set:\n",
        "  value of batch size=5)"
      ]
    },
    {
      "cell_type": "code",
      "metadata": {
        "id": "SsvJHGpLGELf",
        "colab_type": "code",
        "colab": {
          "base_uri": "https://localhost:8080/",
          "height": 398
        },
        "outputId": "0ceca42a-61d6-414f-b29f-7c325de33e24"
      },
      "source": [
        "model = ConvNet()\n",
        "\n",
        "criterion = nn.CrossEntropyLoss()\n",
        "optimizer = torch.optim.Adam(model.parameters(), lr=0.001)\n",
        "num_epochs=5\n",
        "losses=[]\n",
        "for epoch in range(num_epochs):\n",
        "    for images, labels in val_loader:\n",
        "      images=images.permute(0,3,1,2)\n",
        "\n",
        "        # Forward pass\n",
        "      outputs = model(images)\n",
        "      loss = criterion(outputs, labels)\n",
        "      losses.append(loss)\n",
        "        # Backward and optimize\n",
        "      optimizer.zero_grad()\n",
        "      loss.backward()\n",
        "      optimizer.step()\n",
        "\n",
        "      \n",
        "    print (f'Epoch [{epoch+1}/{num_epochs}],  Loss: {loss.item():.4f}')\n",
        "plt.plot(losses,'-x')\n",
        "plt.xlabel('epoch')\n",
        "plt.ylabel('loss')\n",
        "plt.show()\n",
        "print('Finished Training')\n",
        "\n",
        "\n",
        "with torch.no_grad():\n",
        "    n_correct = 0\n",
        "    n_samples = 0\n",
        "    \n",
        "    for images, labels in test_loader:\n",
        "      images=images.permute(0,3,1,2)  \n",
        "      outputs = model(images)\n",
        "      # max returns (value ,index)\n",
        "      _, predicted = torch.max(outputs, 1)\n",
        "      n_samples += labels.size(0)\n",
        "      n_correct += (predicted == labels).sum().item()\n",
        "      \n",
        "      \n",
        "\n",
        "    acc = 100.0 * n_correct / n_samples\n",
        "    print(f'Accuracy of the network: {acc} %')\n",
        "\n",
        "    "
      ],
      "execution_count": 19,
      "outputs": [
        {
          "output_type": "stream",
          "text": [
            "Epoch [1/5],  Loss: 0.7319\n",
            "Epoch [2/5],  Loss: 0.5664\n",
            "Epoch [3/5],  Loss: 0.0581\n",
            "Epoch [4/5],  Loss: 0.0265\n",
            "Epoch [5/5],  Loss: 0.0697\n"
          ],
          "name": "stdout"
        },
        {
          "output_type": "display_data",
          "data": {
            "image/png": "[encoded data removed]",
            "text/plain": [
              "<Figure size 432x288 with 1 Axes>"
            ]
          },
          "metadata": {
            "tags": [],
            "needs_background": "light"
          }
        },
        {
          "output_type": "stream",
          "text": [
            "Finished Training\n",
            "Accuracy of the network: 95.0 %\n"
          ],
          "name": "stdout"
        }
      ]
    }
  ]
}